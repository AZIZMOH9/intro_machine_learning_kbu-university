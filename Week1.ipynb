{
 "cells": [
  {
   "cell_type": "markdown",
   "id": "819d0daf",
   "metadata": {},
   "source": [
    "# week1"
   ]
  },
  {
   "cell_type": "code",
   "execution_count": 1,
   "id": "0b8f7f87",
   "metadata": {},
   "outputs": [
    {
     "name": "stdout",
     "output_type": "stream",
     "text": [
      "5\n",
      "hello world\n",
      "True\n",
      "5.5\n",
      "<class 'int'>\n",
      "<class 'str'>\n",
      "<class 'bool'>\n",
      "<class 'float'>\n"
     ]
    }
   ],
   "source": [
    "#in this cell i decleared a different var type and i wrote their types to the screen...\n",
    "a=5\n",
    "b=\"hello world\"\n",
    "c=True\n",
    "d=5.5\n",
    "print(a)\n",
    "print(b)\n",
    "print(c)\n",
    "print(d)\n",
    "print(type(a))\n",
    "print(type(b))\n",
    "print(type(c))\n",
    "print(type(d))"
   ]
  },
  {
   "cell_type": "code",
   "execution_count": 2,
   "id": "c7e78452",
   "metadata": {},
   "outputs": [
    {
     "data": {
      "text/plain": [
       "list"
      ]
     },
     "execution_count": 2,
     "metadata": {},
     "output_type": "execute_result"
    }
   ],
   "source": [
    "#in this cell im declearing a list contains different types of var....\n",
    "arr1=[a,b,c,d]\n",
    "type(arr1)"
   ]
  },
  {
   "cell_type": "code",
   "execution_count": 3,
   "id": "6ccda7d3",
   "metadata": {},
   "outputs": [
    {
     "name": "stdout",
     "output_type": "stream",
     "text": [
      "value:5         type:<class 'int'>\n",
      "value:hello world         type:<class 'str'>\n",
      "value:True         type:<class 'bool'>\n",
      "value:5.5         type:<class 'float'>\n"
     ]
    }
   ],
   "source": [
    "#in this cell im printing all the elements in the list with their types\n",
    "for i in arr1:\n",
    "    print(\"value:\"+str(i)+\"         type:\"+str(type(i)))"
   ]
  },
  {
   "cell_type": "code",
   "execution_count": 4,
   "id": "cad80f96",
   "metadata": {},
   "outputs": [],
   "source": [
    "#in this cell i decleared a function that sorts an input arry in descending order bigger-smaller\n",
    "def sorting(arr):\n",
    "    temp=0\n",
    "    for i in range(len(arr)):\n",
    "        for j in range(1,len(arr)):\n",
    "            if(arr[j]>arr[j-1]):\n",
    "                temp=arr[j]\n",
    "                arr[j]=arr[j-1]\n",
    "                arr[j-1]=temp\n",
    "                \n",
    "    print(arr)          "
   ]
  },
  {
   "cell_type": "code",
   "execution_count": 5,
   "id": "816d8b93",
   "metadata": {},
   "outputs": [
    {
     "name": "stdout",
     "output_type": "stream",
     "text": [
      "[7, 6, 5, 4, 2, 1]\n"
     ]
    }
   ],
   "source": [
    "#in this cell i decleared an array and called the function above....\n",
    "arr1=[1,4,5,2,6,7]\n",
    "sorting(arr1)"
   ]
  },
  {
   "cell_type": "code",
   "execution_count": 6,
   "id": "2da58ced",
   "metadata": {},
   "outputs": [],
   "source": [
    "#lambda decleartion\n",
    "circle_area=lambda r:r*r*3.14\n"
   ]
  },
  {
   "cell_type": "code",
   "execution_count": 7,
   "id": "f1a008d5",
   "metadata": {},
   "outputs": [
    {
     "data": {
      "text/plain": [
       "28.26"
      ]
     },
     "execution_count": 7,
     "metadata": {},
     "output_type": "execute_result"
    }
   ],
   "source": [
    "#lambda calling\n",
    "circle_area(3)"
   ]
  },
  {
   "cell_type": "code",
   "execution_count": 8,
   "id": "eb540ecf",
   "metadata": {},
   "outputs": [
    {
     "name": "stdout",
     "output_type": "stream",
     "text": [
      "[3, 4, 5, 6, 7]         writing list elements from 3 to end\n",
      "[1, 2, 3, 4, 5, 6, 7]          writing  all list elements\n",
      "7         writing  last element\n"
     ]
    }
   ],
   "source": [
    "#lists\n",
    "arr2=[1,2,3,4,5,6,7]\n",
    "print(str(arr2[2:])+\"         writing list elements from 3 to end\")\n",
    "print(str(arr2[:])+\"          writing  all list elements\")\n",
    "print(str(arr2[-1])+\"         writing  last element\")"
   ]
  },
  {
   "cell_type": "code",
   "execution_count": 10,
   "id": "d16aabf8",
   "metadata": {},
   "outputs": [
    {
     "name": "stdout",
     "output_type": "stream",
     "text": [
      "*****************\n",
      " *************** \n",
      "  *************  \n",
      "   ***********   \n",
      "    *********    \n",
      "     *******     \n",
      "      *****      \n",
      "       ***       \n",
      "        *        \n",
      "                 \n",
      "                 \n",
      "                 \n",
      "                 \n",
      "                 \n",
      "                 \n",
      "                 \n",
      "                 \n"
     ]
    }
   ],
   "source": [
    "#while\n",
    "k=\"*****************\"\n",
    "s=len(k)\n",
    "k=list(k)\n",
    "i=0\n",
    "while(i<s):\n",
    "    print(\"\".join(k))\n",
    "    k[s-i-1]=\" \"\n",
    "    k[i]=\" \"\n",
    "    i=i+1"
   ]
  },
  {
   "cell_type": "code",
   "execution_count": 15,
   "id": "72af0b7a",
   "metadata": {},
   "outputs": [
    {
     "name": "stdout",
     "output_type": "stream",
     "text": [
      "key :aziz  value 23\n",
      "key :ahmed  value 33\n",
      "key :alex  value 44\n"
     ]
    }
   ],
   "source": [
    "#dictionary\n",
    "z={\"aziz\":23,\"ahmed\":33,\"alex\":44}\n",
    "for k,v in z.items():\n",
    "    print(\"key :\"+ k +\"  value \"+str(v))"
   ]
  },
  {
   "cell_type": "code",
   "execution_count": null,
   "id": "160f7c4a",
   "metadata": {},
   "outputs": [],
   "source": [
    "az=[1,2,3]\n",
    "az.append(4)\n",
    "az"
   ]
  },
  {
   "cell_type": "code",
   "execution_count": null,
   "id": "aff81497",
   "metadata": {},
   "outputs": [],
   "source": []
  }
 ],
 "metadata": {
  "kernelspec": {
   "display_name": "Python 3 (ipykernel)",
   "language": "python",
   "name": "python3"
  },
  "language_info": {
   "codemirror_mode": {
    "name": "ipython",
    "version": 3
   },
   "file_extension": ".py",
   "mimetype": "text/x-python",
   "name": "python",
   "nbconvert_exporter": "python",
   "pygments_lexer": "ipython3",
   "version": "3.10.4"
  }
 },
 "nbformat": 4,
 "nbformat_minor": 5
}
